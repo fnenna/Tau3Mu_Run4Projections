{
 "cells": [
  {
   "cell_type": "code",
   "execution_count": 1,
   "id": "fcc762b0-c35c-4b29-9606-f4b06fa05183",
   "metadata": {},
   "outputs": [],
   "source": [
    "import warnings, uproot, optuna, time, json, math\n",
    "warnings.filterwarnings('ignore')\n",
    "from xgboost import XGBRegressor\n",
    "from sklearn.model_selection import train_test_split\n",
    "from sklearn.metrics import accuracy_score, precision_score, recall_score, roc_auc_score, f1_score, log_loss\n",
    "import matplotlib.pyplot as plt\n",
    "import numpy as np\n",
    "import pandas as pd"
   ]
  },
  {
   "cell_type": "code",
   "execution_count": 2,
   "id": "1ec5f638-9f0e-4a00-a6f6-0df5993fe8fe",
   "metadata": {},
   "outputs": [],
   "source": [
    "class json_info:\n",
    "    def __init__(self, config):\n",
    "        with open(config, 'r') as file:\n",
    "            json_file = json.load(file)\n",
    "        self.training_variables = json_file[\"training_variables\"]\n",
    "        self.xgb_fixed_param = {}\n",
    "        for d in json_file[\"xgb_fixed_param\"]:\n",
    "            self.xgb_fixed_param.update(d)\n",
    "        self.xgb_scanned_param = {}\n",
    "        for d in json_file[\"xgb_scanned_param\"]:\n",
    "            self.xgb_scanned_param.update(d)\n",
    "        self.Sel_bkg = json_file[\"Sel_bkg\"]\n",
    "        self.Sel_sig = json_file[\"Sel_sig\"]\n",
    "        self.tree_name = json_file[\"tree_name\"]\n",
    "        self.data_path = json_file[\"data_path\"]\n",
    "        self.output_folder = json_file[\"output_folder\"]\n",
    "        self.test_size = json_file[\"test_size\"]\n",
    "        self.optuna_options = {}\n",
    "        for d in json_file[\"optuna_options\"]:\n",
    "            self.optuna_options.update(d)\n",
    "        try:\n",
    "            self.weight_column = [json_file['weight_column']]\n",
    "        except KeyError:\n",
    "            self.weight_column = None\n",
    "        try:\n",
    "            self.out_label = [json_file['out_label']]\n",
    "        except KeyError:\n",
    "            self.label = None\n",
    "\n",
    "    def __str__(self):\n",
    "        out = f\"BDT hyperparameters scan \\nFile: {self.data_path} \\nTree: {self.tree_name} \\nSignal: {self.Sel_sig} \\nBackground: {self.Sel_bkg}\"\n",
    "        return out\n",
    "    \n",
    "    def get_input_features(self, df, branch_list, cuts=''):\n",
    "        if cuts=='': return df[branch_list]\n",
    "        _df = df[df.eval(cuts)]\n",
    "        _df = _df.reset_index(drop=True)\n",
    "        return _df[branch_list]\n",
    "    \n",
    "    def load_data(self):\n",
    "        print(\"Loading data from\", self.data_path)\n",
    "        f = uproot.open(self.data_path)\n",
    "        tree = f[self.tree_name]\n",
    "        self.data = tree.arrays(library=\"pd\")\n",
    "        if self.weight_column is not None:\n",
    "            variables = self.training_variables + self.weight_column\n",
    "        else:\n",
    "            variables = self.training_variables\n",
    "        label = \"_label\"\n",
    "        while \"_label\" in variables:\n",
    "            label = label + \"_\"\n",
    "        self.label = label\n",
    "        \n",
    "        sig_data = self.get_input_features(self.data, variables, self.Sel_sig)\n",
    "        sig_data[label] = 1\n",
    "                \n",
    "        bkg_data = self.get_input_features(self.data, variables, self.Sel_bkg)\n",
    "        bkg_data[label] = 0\n",
    "        \n",
    "        self.data = pd.concat([bkg_data, sig_data])\n",
    "    \n",
    "    def train_test_splitting(self):\n",
    "        if self.weight_column is not None:\n",
    "            variables = self.training_variables + self.weight_column\n",
    "        else:\n",
    "            variables = self.training_variables\n",
    "        X = self.data[variables]\n",
    "        y = self.data[self.label]\n",
    "        X_train, X_test, y_train, y_test = train_test_split(X, y, test_size=self.test_size, random_state=42, stratify=y)\n",
    "        if self.weight_column is not None:\n",
    "            self.W_train = X_train[self.weight_column]\n",
    "            self.W_test = X_test[self.weight_column]\n",
    "            self.X_train = X_train[self.training_variables]\n",
    "            self.X_test = X_test[self.training_variables]\n",
    "        else:\n",
    "            self.X_train = X_train\n",
    "            self.X_test = X_test\n",
    "        self.y_train = y_train\n",
    "        self.y_test = y_test\n"
   ]
  },
  {
   "cell_type": "code",
   "execution_count": 3,
   "id": "46c9b346-6efc-4e0f-9235-338fd46e39fd",
   "metadata": {},
   "outputs": [
    {
     "name": "stdout",
     "output_type": "stream",
     "text": [
      "Loading data from /lustrehome/mbuonsante/Tau_3mu/CC_etc/CMSSW_13_0_13/src/ROOTFiles/AllData2022.root\n"
     ]
    }
   ],
   "source": [
    "settings = json_info(\"config_best.json\")\n",
    "settings.load_data()\n",
    "settings.train_test_splitting()"
   ]
  },
  {
   "cell_type": "code",
   "execution_count": 4,
   "id": "257aeef3-c830-491d-a184-91e42d4a855a",
   "metadata": {},
   "outputs": [
    {
     "name": "stdout",
     "output_type": "stream",
     "text": [
      "['cLP', 'tKink', 'segmComp', 'fv_nC', 'fv_dphi3D', 'fv_d3Dsig', 'fv_d3D', 'mindca_iso', 'trkRel', 'd0sig', 'Ptmu3', 'd0sig_max', 'MVASoft1', 'MVASoft2', 'MVASoft3', 'Pt_tripl']\n"
     ]
    }
   ],
   "source": [
    "print(settings.training_variables)"
   ]
  },
  {
   "cell_type": "code",
   "execution_count": 5,
   "id": "5c4b8604-6cef-46c0-b629-d2c38794bb04",
   "metadata": {},
   "outputs": [],
   "source": [
    "parameters = []\n",
    "features = []\n",
    "auc_score_testV = []\n",
    "auc_score_trainV = []\n",
    "def objective(trial):\n",
    "    \"\"\"Define the objective function\"\"\"\n",
    "    var_params = {key: trial.suggest_discrete_uniform(key, settings.xgb_scanned_param[key][0], settings.xgb_scanned_param[key][1], settings.xgb_scanned_param[key][2]) for key in settings.xgb_scanned_param.keys()}\n",
    "\n",
    "    integer_options = ['n_estimators', 'num_boost_round', 'max_depth']\n",
    "    \n",
    "    for key in settings.xgb_scanned_param.keys():\n",
    "        if key in integer_options:\n",
    "            var_params[key] = int(var_params[key])\n",
    "            \n",
    "    params = {**settings.xgb_fixed_param, **var_params}\n",
    "\n",
    "    parameters.append(params)\n",
    "        \n",
    "    # Fit the model\n",
    "    optuna_model = XGBRegressor(**params)\n",
    "    \n",
    "    if settings.weight_column is not None:\n",
    "        optuna_model.fit(\n",
    "            settings.X_train,  \n",
    "            settings.y_train,           \n",
    "            sample_weight = settings.W_train,\n",
    "            verbose=0,\n",
    "            eval_set=[(settings.X_test, settings.y_test)] \n",
    "        )\n",
    "    else:\n",
    "        optuna_model.fit(\n",
    "            settings.X_train,  \n",
    "            settings.y_train,           \n",
    "            verbose=0,\n",
    "            eval_set=[(settings.X_test, settings.y_test)] \n",
    "        )\n",
    "\n",
    "    # Make predictions\n",
    "    y_pred = optuna_model.predict(settings.X_test)\n",
    "    y_pred_train = optuna_model.predict(settings.X_train)\n",
    "\n",
    "    scores = {\n",
    "        'auc': roc_auc_score(settings.y_test, y_pred),\n",
    "        'logloss': log_loss(settings.y_test, y_pred),\n",
    "        'custom_auc': 0\n",
    "    }\n",
    "\n",
    "    y_temp = settings.y_test\n",
    "    y_temp = y_temp[y_pred==0]\n",
    "    \n",
    "    auc_score_train = roc_auc_score(settings.y_train, y_pred_train)\n",
    "    \n",
    "    if settings.weight_column is not None:\n",
    "        scores['auc'] = roc_auc_score(settings.y_test, y_pred, sample_weight=settings.W_test)\n",
    "        scores['logloss'] = log_loss(settings.y_test, y_pred, sample_weight=settings.W_test[settings.weight_column[0]])\n",
    "        auc_score_train = roc_auc_score(settings.y_train, y_pred_train, sample_weight=settings.W_train)\n",
    "            \n",
    "    auc_score_testV.append(scores['auc'])\n",
    "    auc_score_trainV.append(auc_score_train)\n",
    "\n",
    "    scores['custom_auc'] = scores['auc']*(1-(auc_score_train-scores['auc']))\n",
    "\n",
    "    return scores[settings.optuna_options[\"metric\"]]\n"
   ]
  },
  {
   "cell_type": "code",
   "execution_count": 6,
   "id": "e6985b49-1867-4691-acb5-d550ad2bbb7e",
   "metadata": {},
   "outputs": [
    {
     "name": "stderr",
     "output_type": "stream",
     "text": [
      "[I 2024-06-25 15:05:18,494] A new study created in memory with name: no-name-ac5a9fb3-2a6b-49a6-bf78-48428df10efb\n"
     ]
    }
   ],
   "source": [
    "if (settings.optuna_options[\"storage\"] is None) or (settings.optuna_options[\"storage\"] == \"\"):\n",
    "    study = optuna.create_study(direction=settings.optuna_options[\"direction\"])\n",
    "    onlyone = True\n",
    "else:\n",
    "    study = optuna.load_study(study_name=settings.optuna_options[\"study_name\"], storage=settings.optuna_options[\"storage\"])"
   ]
  },
  {
   "cell_type": "code",
   "execution_count": 7,
   "id": "de8824db-cc6f-494a-b88c-c774d7bf413b",
   "metadata": {
    "scrolled": true
   },
   "outputs": [
    {
     "name": "stderr",
     "output_type": "stream",
     "text": [
      "[I 2024-06-25 15:05:22,679] Trial 0 finished with value: 0.8913750498960633 and parameters: {'max_depth': 3.0, 'learning_rate': 0.75, 'n_estimators': 1900.0, 'subsample': 0.55, 'colsample_bytree': 0.95, 'min_child_weight': 10.0, 'gamma': 8.4, 'reg_alpha': 0.30000000000000004, 'reg_lambda': 9.1}. Best is trial 0 with value: 0.8913750498960633.\n",
      "[I 2024-06-25 15:05:26,380] Trial 1 finished with value: 0.8979539651701349 and parameters: {'max_depth': 3.0, 'learning_rate': 0.22, 'n_estimators': 750.0, 'subsample': 0.9, 'colsample_bytree': 0.55, 'min_child_weight': 2.0, 'gamma': 6.2, 'reg_alpha': 5.0, 'reg_lambda': 8.8}. Best is trial 1 with value: 0.8979539651701349.\n",
      "[I 2024-06-25 15:05:28,297] Trial 2 finished with value: 0.8891757811922962 and parameters: {'max_depth': 4.0, 'learning_rate': 0.7100000000000001, 'n_estimators': 1250.0, 'subsample': 0.55, 'colsample_bytree': 0.75, 'min_child_weight': 13.0, 'gamma': 8.0, 'reg_alpha': 0.2, 'reg_lambda': 7.5}. Best is trial 1 with value: 0.8979539651701349.\n",
      "[I 2024-06-25 15:05:35,022] Trial 3 finished with value: 0.8964386888273008 and parameters: {'max_depth': 3.0, 'learning_rate': 0.04, 'n_estimators': 1700.0, 'subsample': 0.75, 'colsample_bytree': 0.95, 'min_child_weight': 9.0, 'gamma': 17.400000000000002, 'reg_alpha': 7.6000000000000005, 'reg_lambda': 2.2}. Best is trial 1 with value: 0.8979539651701349.\n",
      "[I 2024-06-25 15:05:37,319] Trial 4 finished with value: 0.891535324246299 and parameters: {'max_depth': 6.0, 'learning_rate': 0.33, 'n_estimators': 900.0, 'subsample': 0.5, 'colsample_bytree': 0.9, 'min_child_weight': 5.0, 'gamma': 14.8, 'reg_alpha': 6.0, 'reg_lambda': 0.30000000000000004}. Best is trial 1 with value: 0.8979539651701349.\n",
      "[I 2024-06-25 15:05:40,412] Trial 5 finished with value: 0.8880901763790254 and parameters: {'max_depth': 3.0, 'learning_rate': 0.9500000000000001, 'n_estimators': 1450.0, 'subsample': 0.55, 'colsample_bytree': 0.5, 'min_child_weight': 10.0, 'gamma': 17.8, 'reg_alpha': 0.4, 'reg_lambda': 7.800000000000001}. Best is trial 1 with value: 0.8979539651701349.\n",
      "[I 2024-06-25 15:05:42,173] Trial 6 finished with value: 0.8868314293655449 and parameters: {'max_depth': 6.0, 'learning_rate': 0.59, 'n_estimators': 1850.0, 'subsample': 0.6, 'colsample_bytree': 1.0, 'min_child_weight': 9.0, 'gamma': 13.8, 'reg_alpha': 5.9, 'reg_lambda': 0.30000000000000004}. Best is trial 1 with value: 0.8979539651701349.\n",
      "[I 2024-06-25 15:05:46,962] Trial 7 finished with value: 0.8951096680155367 and parameters: {'max_depth': 3.0, 'learning_rate': 0.05, 'n_estimators': 950.0, 'subsample': 0.75, 'colsample_bytree': 0.95, 'min_child_weight': 15.0, 'gamma': 23.0, 'reg_alpha': 8.6, 'reg_lambda': 0.2}. Best is trial 1 with value: 0.8979539651701349.\n",
      "[I 2024-06-25 15:05:49,043] Trial 8 finished with value: 0.8873388721749418 and parameters: {'max_depth': 4.0, 'learning_rate': 0.72, 'n_estimators': 1300.0, 'subsample': 0.65, 'colsample_bytree': 0.9, 'min_child_weight': 14.0, 'gamma': 14.200000000000001, 'reg_alpha': 2.1, 'reg_lambda': 4.3}. Best is trial 1 with value: 0.8979539651701349.\n",
      "[I 2024-06-25 15:05:51,193] Trial 9 finished with value: 0.8900617086046089 and parameters: {'max_depth': 6.0, 'learning_rate': 0.54, 'n_estimators': 1700.0, 'subsample': 0.65, 'colsample_bytree': 0.8, 'min_child_weight': 11.0, 'gamma': 5.800000000000001, 'reg_alpha': 8.6, 'reg_lambda': 1.9000000000000001}. Best is trial 1 with value: 0.8979539651701349.\n",
      "[I 2024-06-25 15:05:53,771] Trial 10 finished with value: 0.8878264590082127 and parameters: {'max_depth': 5.0, 'learning_rate': 0.29000000000000004, 'n_estimators': 500.0, 'subsample': 1.0, 'colsample_bytree': 0.55, 'min_child_weight': 2.0, 'gamma': 0.0, 'reg_alpha': 3.5, 'reg_lambda': 9.9}. Best is trial 1 with value: 0.8979539651701349.\n",
      "[I 2024-06-25 15:05:57,363] Trial 11 finished with value: 0.8867682813063451 and parameters: {'max_depth': 4.0, 'learning_rate': 0.02, 'n_estimators': 500.0, 'subsample': 0.95, 'colsample_bytree': 0.6, 'min_child_weight': 6.0, 'gamma': 21.0, 'reg_alpha': 7.0, 'reg_lambda': 4.7}. Best is trial 1 with value: 0.8979539651701349.\n",
      "[I 2024-06-25 15:06:02,125] Trial 12 finished with value: 0.8973210618324624 and parameters: {'max_depth': 3.0, 'learning_rate': 0.25, 'n_estimators': 850.0, 'subsample': 0.8500000000000001, 'colsample_bytree': 0.65, 'min_child_weight': 6.0, 'gamma': 2.2, 'reg_alpha': 4.2, 'reg_lambda': 2.9000000000000004}. Best is trial 1 with value: 0.8979539651701349.\n",
      "[I 2024-06-25 15:06:04,865] Trial 13 finished with value: 0.8874201581957467 and parameters: {'max_depth': 5.0, 'learning_rate': 0.28, 'n_estimators': 800.0, 'subsample': 0.8500000000000001, 'colsample_bytree': 0.65, 'min_child_weight': 2.0, 'gamma': 1.4000000000000001, 'reg_alpha': 3.9000000000000004, 'reg_lambda': 6.1000000000000005}. Best is trial 1 with value: 0.8979539651701349.\n",
      "[I 2024-06-25 15:06:08,749] Trial 14 finished with value: 0.8972738439403412 and parameters: {'max_depth': 4.0, 'learning_rate': 0.19, 'n_estimators': 750.0, 'subsample': 0.8500000000000001, 'colsample_bytree': 0.7, 'min_child_weight': 5.0, 'gamma': 4.0, 'reg_alpha': 4.2, 'reg_lambda': 3.2}. Best is trial 1 with value: 0.8979539651701349.\n",
      "[I 2024-06-25 15:06:10,778] Trial 15 finished with value: 0.8954751325555707 and parameters: {'max_depth': 3.0, 'learning_rate': 0.41000000000000003, 'n_estimators': 1100.0, 'subsample': 0.8500000000000001, 'colsample_bytree': 0.5, 'min_child_weight': 7.0, 'gamma': 10.600000000000001, 'reg_alpha': 2.0, 'reg_lambda': 6.1000000000000005}. Best is trial 1 with value: 0.8979539651701349.\n",
      "[I 2024-06-25 15:06:14,286] Trial 16 finished with value: 0.8979237201942909 and parameters: {'max_depth': 3.0, 'learning_rate': 0.19, 'n_estimators': 650.0, 'subsample': 0.9, 'colsample_bytree': 0.6, 'min_child_weight': 4.0, 'gamma': 3.8000000000000003, 'reg_alpha': 5.1000000000000005, 'reg_lambda': 3.3000000000000003}. Best is trial 1 with value: 0.8979539651701349.\n",
      "[I 2024-06-25 15:06:17,798] Trial 17 finished with value: 0.8960417128170513 and parameters: {'max_depth': 5.0, 'learning_rate': 0.16, 'n_estimators': 650.0, 'subsample': 0.95, 'colsample_bytree': 0.6, 'min_child_weight': 3.0, 'gamma': 5.800000000000001, 'reg_alpha': 5.5, 'reg_lambda': 6.0}. Best is trial 1 with value: 0.8979539651701349.\n",
      "[I 2024-06-25 15:06:20,243] Trial 18 finished with value: 0.8935080115350778 and parameters: {'max_depth': 4.0, 'learning_rate': 0.39, 'n_estimators': 1000.0, 'subsample': 0.95, 'colsample_bytree': 0.55, 'min_child_weight': 4.0, 'gamma': 10.4, 'reg_alpha': 2.3000000000000003, 'reg_lambda': 7.800000000000001}. Best is trial 1 with value: 0.8979539651701349.\n",
      "[I 2024-06-25 15:06:23,766] Trial 19 finished with value: 0.8987441127710587 and parameters: {'max_depth': 3.0, 'learning_rate': 0.15000000000000002, 'n_estimators': 650.0, 'subsample': 0.8, 'colsample_bytree': 0.8, 'min_child_weight': 3.0, 'gamma': 4.4, 'reg_alpha': 6.7, 'reg_lambda': 3.8000000000000003}. Best is trial 19 with value: 0.8987441127710587.\n",
      "[I 2024-06-25 15:06:27,125] Trial 20 finished with value: 0.8947703210428437 and parameters: {'max_depth': 4.0, 'learning_rate': 0.44, 'n_estimators': 1050.0, 'subsample': 0.8, 'colsample_bytree': 0.8, 'min_child_weight': 7.0, 'gamma': 7.4, 'reg_alpha': 7.0, 'reg_lambda': 8.8}. Best is trial 19 with value: 0.8987441127710587.\n",
      "[I 2024-06-25 15:06:30,806] Trial 21 finished with value: 0.898103525915246 and parameters: {'max_depth': 3.0, 'learning_rate': 0.12, 'n_estimators': 650.0, 'subsample': 0.9, 'colsample_bytree': 0.8, 'min_child_weight': 3.0, 'gamma': 3.8000000000000003, 'reg_alpha': 5.0, 'reg_lambda': 3.7}. Best is trial 19 with value: 0.8987441127710587.\n",
      "[I 2024-06-25 15:06:34,485] Trial 22 finished with value: 0.8989959302362621 and parameters: {'max_depth': 3.0, 'learning_rate': 0.12, 'n_estimators': 650.0, 'subsample': 0.8, 'colsample_bytree': 0.8, 'min_child_weight': 2.0, 'gamma': 4.2, 'reg_alpha': 9.8, 'reg_lambda': 4.1000000000000005}. Best is trial 22 with value: 0.8989959302362621.\n",
      "[I 2024-06-25 15:06:38,109] Trial 23 finished with value: 0.8987417711814258 and parameters: {'max_depth': 3.0, 'learning_rate': 0.09999999999999999, 'n_estimators': 600.0, 'subsample': 0.7, 'colsample_bytree': 0.8, 'min_child_weight': 3.0, 'gamma': 3.4000000000000004, 'reg_alpha': 9.9, 'reg_lambda': 3.8000000000000003}. Best is trial 22 with value: 0.8989959302362621.\n",
      "[I 2024-06-25 15:06:41,305] Trial 24 finished with value: 0.8977231867794787 and parameters: {'max_depth': 3.0, 'learning_rate': 0.09, 'n_estimators': 500.0, 'subsample': 0.7, 'colsample_bytree': 0.8500000000000001, 'min_child_weight': 4.0, 'gamma': 0.4, 'reg_alpha': 9.9, 'reg_lambda': 5.2}. Best is trial 22 with value: 0.8989959302362621.\n",
      "[I 2024-06-25 15:06:44,661] Trial 25 finished with value: 0.8978160024626136 and parameters: {'max_depth': 4.0, 'learning_rate': 0.12, 'n_estimators': 600.0, 'subsample': 0.7, 'colsample_bytree': 0.75, 'min_child_weight': 3.0, 'gamma': 10.8, 'reg_alpha': 9.600000000000001, 'reg_lambda': 1.8}. Best is trial 22 with value: 0.8989959302362621.\n",
      "[I 2024-06-25 15:06:51,012] Trial 26 finished with value: 0.8829164962220479 and parameters: {'max_depth': 3.0, 'learning_rate': 0.01, 'n_estimators': 1150.0, 'subsample': 0.8, 'colsample_bytree': 0.8500000000000001, 'min_child_weight': 5.0, 'gamma': 2.8000000000000003, 'reg_alpha': 8.8, 'reg_lambda': 5.4}. Best is trial 22 with value: 0.8989959302362621.\n",
      "[I 2024-06-25 15:06:54,666] Trial 27 finished with value: 0.8944012714936156 and parameters: {'max_depth': 4.0, 'learning_rate': 0.36000000000000004, 'n_estimators': 1400.0, 'subsample': 0.7, 'colsample_bytree': 0.75, 'min_child_weight': 2.0, 'gamma': 4.800000000000001, 'reg_alpha': 9.200000000000001, 'reg_lambda': 4.1000000000000005}. Best is trial 22 with value: 0.8989959302362621.\n",
      "[I 2024-06-25 15:06:57,288] Trial 28 finished with value: 0.8935128412680075 and parameters: {'max_depth': 3.0, 'learning_rate': 0.47000000000000003, 'n_estimators': 750.0, 'subsample': 0.8, 'colsample_bytree': 0.8500000000000001, 'min_child_weight': 7.0, 'gamma': 8.6, 'reg_alpha': 7.800000000000001, 'reg_lambda': 2.5}. Best is trial 22 with value: 0.8989959302362621.\n",
      "[I 2024-06-25 15:07:00,343] Trial 29 finished with value: 0.8908857620076801 and parameters: {'max_depth': 3.0, 'learning_rate': 0.9600000000000001, 'n_estimators': 900.0, 'subsample': 0.65, 'colsample_bytree': 0.7, 'min_child_weight': 3.0, 'gamma': 8.8, 'reg_alpha': 10.0, 'reg_lambda': 0.9}. Best is trial 22 with value: 0.8989959302362621.\n",
      "[I 2024-06-25 15:07:04,356] Trial 30 finished with value: 0.8930513365576199 and parameters: {'max_depth': 5.0, 'learning_rate': 0.12, 'n_estimators': 550.0, 'subsample': 0.75, 'colsample_bytree': 0.9, 'min_child_weight': 4.0, 'gamma': 2.2, 'reg_alpha': 7.6000000000000005, 'reg_lambda': 1.2000000000000002}. Best is trial 22 with value: 0.8989959302362621.\n",
      "[I 2024-06-25 15:07:08,074] Trial 31 finished with value: 0.8987974818497376 and parameters: {'max_depth': 3.0, 'learning_rate': 0.12, 'n_estimators': 650.0, 'subsample': 0.9, 'colsample_bytree': 0.8, 'min_child_weight': 3.0, 'gamma': 3.8000000000000003, 'reg_alpha': 6.6000000000000005, 'reg_lambda': 3.7}. Best is trial 22 with value: 0.8989959302362621.\n",
      "[I 2024-06-25 15:07:11,611] Trial 32 finished with value: 0.8975613124295805 and parameters: {'max_depth': 3.0, 'learning_rate': 0.22, 'n_estimators': 700.0, 'subsample': 0.8, 'colsample_bytree': 0.8, 'min_child_weight': 2.0, 'gamma': 6.800000000000001, 'reg_alpha': 6.5, 'reg_lambda': 3.8000000000000003}. Best is trial 22 with value: 0.8989959302362621.\n",
      "[I 2024-06-25 15:07:16,117] Trial 33 finished with value: 0.8989185017356027 and parameters: {'max_depth': 3.0, 'learning_rate': 0.08, 'n_estimators': 800.0, 'subsample': 0.75, 'colsample_bytree': 0.75, 'min_child_weight': 3.0, 'gamma': 4.800000000000001, 'reg_alpha': 8.1, 'reg_lambda': 4.9}. Best is trial 22 with value: 0.8989959302362621.\n",
      "[I 2024-06-25 15:07:19,934] Trial 34 finished with value: 0.8987506162246772 and parameters: {'max_depth': 3.0, 'learning_rate': 0.17, 'n_estimators': 750.0, 'subsample': 0.75, 'colsample_bytree': 0.75, 'min_child_weight': 6.0, 'gamma': 6.2, 'reg_alpha': 7.9, 'reg_lambda': 4.800000000000001}. Best is trial 22 with value: 0.8989959302362621.\n",
      "[I 2024-06-25 15:07:23,815] Trial 35 finished with value: 0.8973044942369603 and parameters: {'max_depth': 3.0, 'learning_rate': 0.3, 'n_estimators': 800.0, 'subsample': 0.75, 'colsample_bytree': 0.75, 'min_child_weight': 6.0, 'gamma': 5.4, 'reg_alpha': 8.1, 'reg_lambda': 6.800000000000001}. Best is trial 22 with value: 0.8989959302362621.\n",
      "[I 2024-06-25 15:07:28,400] Trial 36 finished with value: 0.8980154746846872 and parameters: {'max_depth': 4.0, 'learning_rate': 0.06999999999999999, 'n_estimators': 850.0, 'subsample': 0.75, 'colsample_bytree': 0.7, 'min_child_weight': 8.0, 'gamma': 9.4, 'reg_alpha': 8.3, 'reg_lambda': 4.7}. Best is trial 22 with value: 0.8989959302362621.\n",
      "[I 2024-06-25 15:07:30,132] Trial 37 finished with value: 0.8943991303424835 and parameters: {'max_depth': 3.0, 'learning_rate': 0.25, 'n_estimators': 2000.0, 'subsample': 1.0, 'colsample_bytree': 0.7, 'min_child_weight': 12.0, 'gamma': 12.4, 'reg_alpha': 9.1, 'reg_lambda': 5.800000000000001}. Best is trial 22 with value: 0.8989959302362621.\n",
      "[I 2024-06-25 15:07:32,590] Trial 38 finished with value: 0.8875146579186678 and parameters: {'max_depth': 3.0, 'learning_rate': 0.81, 'n_estimators': 1200.0, 'subsample': 0.9, 'colsample_bytree': 0.8500000000000001, 'min_child_weight': 5.0, 'gamma': 1.2000000000000002, 'reg_alpha': 7.1000000000000005, 'reg_lambda': 6.9}. Best is trial 22 with value: 0.8989959302362621.\n",
      "[I 2024-06-25 15:07:34,475] Trial 39 finished with value: 0.8928805923044153 and parameters: {'max_depth': 4.0, 'learning_rate': 0.63, 'n_estimators': 950.0, 'subsample': 0.6, 'colsample_bytree': 0.75, 'min_child_weight': 4.0, 'gamma': 7.2, 'reg_alpha': 6.2, 'reg_lambda': 4.7}. Best is trial 22 with value: 0.8989959302362621.\n",
      "[I 2024-06-25 15:07:39,245] Trial 40 finished with value: 0.8989510793600035 and parameters: {'max_depth': 3.0, 'learning_rate': 0.19, 'n_estimators': 1600.0, 'subsample': 0.8500000000000001, 'colsample_bytree': 0.9, 'min_child_weight': 6.0, 'gamma': 6.4, 'reg_alpha': 7.6000000000000005, 'reg_lambda': 2.7}. Best is trial 22 with value: 0.8989959302362621.\n",
      "[I 2024-06-25 15:07:45,047] Trial 41 finished with value: 0.8980934911425787 and parameters: {'max_depth': 3.0, 'learning_rate': 0.18000000000000002, 'n_estimators': 1600.0, 'subsample': 0.8500000000000001, 'colsample_bytree': 1.0, 'min_child_weight': 10.0, 'gamma': 6.4, 'reg_alpha': 7.4, 'reg_lambda': 2.5}. Best is trial 22 with value: 0.8989959302362621.\n",
      "[I 2024-06-25 15:07:51,681] Trial 42 finished with value: 0.8962209693467597 and parameters: {'max_depth': 3.0, 'learning_rate': 0.060000000000000005, 'n_estimators': 1500.0, 'subsample': 0.9, 'colsample_bytree': 0.95, 'min_child_weight': 8.0, 'gamma': 16.2, 'reg_alpha': 8.0, 'reg_lambda': 4.4}. Best is trial 22 with value: 0.8989959302362621.\n",
      "[I 2024-06-25 15:07:56,257] Trial 43 finished with value: 0.8985642863312897 and parameters: {'max_depth': 3.0, 'learning_rate': 0.23, 'n_estimators': 1800.0, 'subsample': 0.75, 'colsample_bytree': 0.9, 'min_child_weight': 5.0, 'gamma': 5.2, 'reg_alpha': 9.200000000000001, 'reg_lambda': 3.1}. Best is trial 22 with value: 0.8989959302362621.\n",
      "[I 2024-06-25 15:07:59,819] Trial 44 finished with value: 0.8945101262067107 and parameters: {'max_depth': 3.0, 'learning_rate': 0.33, 'n_estimators': 1700.0, 'subsample': 0.8, 'colsample_bytree': 0.75, 'min_child_weight': 9.0, 'gamma': 12.200000000000001, 'reg_alpha': 8.200000000000001, 'reg_lambda': 5.300000000000001}. Best is trial 22 with value: 0.8989959302362621.\n",
      "[I 2024-06-25 15:08:06,809] Trial 45 finished with value: 0.8983335837051502 and parameters: {'max_depth': 3.0, 'learning_rate': 0.04, 'n_estimators': 1300.0, 'subsample': 0.8500000000000001, 'colsample_bytree': 0.8500000000000001, 'min_child_weight': 2.0, 'gamma': 7.800000000000001, 'reg_alpha': 8.6, 'reg_lambda': 1.6}. Best is trial 22 with value: 0.8989959302362621.\n",
      "[I 2024-06-25 15:08:11,174] Trial 46 finished with value: 0.89789215450519 and parameters: {'max_depth': 3.0, 'learning_rate': 0.15000000000000002, 'n_estimators': 750.0, 'subsample': 0.5, 'colsample_bytree': 0.9, 'min_child_weight': 6.0, 'gamma': 1.6, 'reg_alpha': 7.5, 'reg_lambda': 2.7}. Best is trial 22 with value: 0.8989959302362621.\n",
      "[I 2024-06-25 15:08:16,193] Trial 47 finished with value: 0.8976270982254771 and parameters: {'max_depth': 4.0, 'learning_rate': 0.06999999999999999, 'n_estimators': 850.0, 'subsample': 0.95, 'colsample_bytree': 0.65, 'min_child_weight': 5.0, 'gamma': 2.8000000000000003, 'reg_alpha': 5.800000000000001, 'reg_lambda': 3.4000000000000004}. Best is trial 22 with value: 0.8989959302362621.\n",
      "[I 2024-06-25 15:08:21,159] Trial 48 finished with value: 0.8842455830832392 and parameters: {'max_depth': 6.0, 'learning_rate': 0.01, 'n_estimators': 550.0, 'subsample': 0.8500000000000001, 'colsample_bytree': 0.75, 'min_child_weight': 2.0, 'gamma': 6.2, 'reg_alpha': 6.6000000000000005, 'reg_lambda': 4.3}. Best is trial 22 with value: 0.8989959302362621.\n",
      "[I 2024-06-25 15:08:25,090] Trial 49 finished with value: 0.8973475687948392 and parameters: {'max_depth': 3.0, 'learning_rate': 0.21000000000000002, 'n_estimators': 1550.0, 'subsample': 0.8, 'colsample_bytree': 0.95, 'min_child_weight': 8.0, 'gamma': 9.8, 'reg_alpha': 7.2, 'reg_lambda': 6.5}. Best is trial 22 with value: 0.8989959302362621.\n",
      "[I 2024-06-25 15:08:27,658] Trial 50 finished with value: 0.8930192533862278 and parameters: {'max_depth': 3.0, 'learning_rate': 0.27, 'n_estimators': 950.0, 'subsample': 0.65, 'colsample_bytree': 1.0, 'min_child_weight': 4.0, 'gamma': 23.6, 'reg_alpha': 9.0, 'reg_lambda': 2.2}. Best is trial 22 with value: 0.8989959302362621.\n",
      "[I 2024-06-25 15:08:31,453] Trial 51 finished with value: 0.89838543729903 and parameters: {'max_depth': 3.0, 'learning_rate': 0.15000000000000002, 'n_estimators': 700.0, 'subsample': 0.8, 'colsample_bytree': 0.8, 'min_child_weight': 3.0, 'gamma': 4.4, 'reg_alpha': 6.5, 'reg_lambda': 4.9}. Best is trial 22 with value: 0.8989959302362621.\n",
      "[I 2024-06-25 15:08:34,793] Trial 52 finished with value: 0.898546503576134 and parameters: {'max_depth': 3.0, 'learning_rate': 0.16, 'n_estimators': 600.0, 'subsample': 0.75, 'colsample_bytree': 0.8, 'min_child_weight': 3.0, 'gamma': 4.800000000000001, 'reg_alpha': 6.800000000000001, 'reg_lambda': 4.1000000000000005}. Best is trial 22 with value: 0.8989959302362621.\n",
      "[I 2024-06-25 15:08:38,971] Trial 53 finished with value: 0.899249250541029 and parameters: {'max_depth': 3.0, 'learning_rate': 0.09999999999999999, 'n_estimators': 700.0, 'subsample': 0.8, 'colsample_bytree': 0.7, 'min_child_weight': 11.0, 'gamma': 3.0, 'reg_alpha': 5.4, 'reg_lambda': 5.6000000000000005}. Best is trial 53 with value: 0.899249250541029.\n",
      "[I 2024-06-25 15:08:42,917] Trial 54 finished with value: 0.8954405096605071 and parameters: {'max_depth': 3.0, 'learning_rate': 0.09999999999999999, 'n_estimators': 800.0, 'subsample': 0.9, 'colsample_bytree': 0.7, 'min_child_weight': 11.0, 'gamma': 20.0, 'reg_alpha': 5.4, 'reg_lambda': 5.800000000000001}. Best is trial 53 with value: 0.899249250541029.\n",
      "[I 2024-06-25 15:08:47,079] Trial 55 finished with value: 0.8970072446120511 and parameters: {'max_depth': 3.0, 'learning_rate': 0.05, 'n_estimators': 700.0, 'subsample': 0.8500000000000001, 'colsample_bytree': 0.65, 'min_child_weight': 13.0, 'gamma': 2.8000000000000003, 'reg_alpha': 4.800000000000001, 'reg_lambda': 5.5}. Best is trial 53 with value: 0.899249250541029.\n",
      "[I 2024-06-25 15:08:48,902] Trial 56 finished with value: 0.8890982405914901 and parameters: {'max_depth': 4.0, 'learning_rate': 0.85, 'n_estimators': 550.0, 'subsample': 0.7, 'colsample_bytree': 0.75, 'min_child_weight': 9.0, 'gamma': 0.8, 'reg_alpha': 9.5, 'reg_lambda': 5.0}. Best is trial 53 with value: 0.899249250541029.\n",
      "[I 2024-06-25 15:08:53,627] Trial 57 finished with value: 0.8985207243877419 and parameters: {'max_depth': 3.0, 'learning_rate': 0.2, 'n_estimators': 1050.0, 'subsample': 0.75, 'colsample_bytree': 0.7, 'min_child_weight': 11.0, 'gamma': 3.6, 'reg_alpha': 6.2, 'reg_lambda': 6.4}. Best is trial 53 with value: 0.899249250541029.\n",
      "[I 2024-06-25 15:09:00,303] Trial 58 finished with value: 0.8985367269565129 and parameters: {'max_depth': 3.0, 'learning_rate': 0.11, 'n_estimators': 1400.0, 'subsample': 0.9, 'colsample_bytree': 0.8500000000000001, 'min_child_weight': 15.0, 'gamma': 2.0, 'reg_alpha': 3.2, 'reg_lambda': 3.4000000000000004}. Best is trial 53 with value: 0.899249250541029.\n",
      "[I 2024-06-25 15:09:04,465] Trial 59 finished with value: 0.8959895541324627 and parameters: {'max_depth': 4.0, 'learning_rate': 0.31, 'n_estimators': 900.0, 'subsample': 0.8500000000000001, 'colsample_bytree': 0.65, 'min_child_weight': 6.0, 'gamma': 5.800000000000001, 'reg_alpha': 4.5, 'reg_lambda': 7.2}. Best is trial 53 with value: 0.899249250541029.\n",
      "[I 2024-06-25 15:09:07,847] Trial 60 finished with value: 0.8909150443761045 and parameters: {'max_depth': 5.0, 'learning_rate': 0.59, 'n_estimators': 700.0, 'subsample': 0.8, 'colsample_bytree': 0.7, 'min_child_weight': 14.0, 'gamma': 7.4, 'reg_alpha': 5.9, 'reg_lambda': 4.5}. Best is trial 53 with value: 0.899249250541029.\n",
      "[I 2024-06-25 15:09:11,522] Trial 61 finished with value: 0.8986758097682155 and parameters: {'max_depth': 3.0, 'learning_rate': 0.13, 'n_estimators': 650.0, 'subsample': 0.8, 'colsample_bytree': 0.8, 'min_child_weight': 2.0, 'gamma': 4.6000000000000005, 'reg_alpha': 7.800000000000001, 'reg_lambda': 3.7}. Best is trial 53 with value: 0.899249250541029.\n",
      "[I 2024-06-25 15:09:14,959] Trial 62 finished with value: 0.8975338638753262 and parameters: {'max_depth': 3.0, 'learning_rate': 0.17, 'n_estimators': 600.0, 'subsample': 0.8, 'colsample_bytree': 0.75, 'min_child_weight': 10.0, 'gamma': 3.2, 'reg_alpha': 6.800000000000001, 'reg_lambda': 2.9000000000000004}. Best is trial 53 with value: 0.899249250541029.\n",
      "[I 2024-06-25 15:09:18,782] Trial 63 finished with value: 0.898559325218984 and parameters: {'max_depth': 3.0, 'learning_rate': 0.23, 'n_estimators': 750.0, 'subsample': 0.75, 'colsample_bytree': 0.8, 'min_child_weight': 3.0, 'gamma': 4.2, 'reg_alpha': 5.5, 'reg_lambda': 4.0}. Best is trial 53 with value: 0.899249250541029.\n",
      "[I 2024-06-25 15:09:22,415] Trial 64 finished with value: 0.8980720462905317 and parameters: {'max_depth': 3.0, 'learning_rate': 0.09, 'n_estimators': 650.0, 'subsample': 0.8500000000000001, 'colsample_bytree': 0.8, 'min_child_weight': 7.0, 'gamma': 8.200000000000001, 'reg_alpha': 8.4, 'reg_lambda': 5.6000000000000005}. Best is trial 53 with value: 0.899249250541029.\n",
      "[I 2024-06-25 15:09:25,591] Trial 65 finished with value: 0.8922549019175764 and parameters: {'max_depth': 3.0, 'learning_rate': 0.04, 'n_estimators': 500.0, 'subsample': 0.7, 'colsample_bytree': 0.75, 'min_child_weight': 4.0, 'gamma': 0.0, 'reg_alpha': 7.7, 'reg_lambda': 5.1000000000000005}. Best is trial 53 with value: 0.899249250541029.\n",
      "[I 2024-06-25 15:09:29,674] Trial 66 finished with value: 0.8984216861754923 and parameters: {'max_depth': 3.0, 'learning_rate': 0.13, 'n_estimators': 800.0, 'subsample': 0.75, 'colsample_bytree': 0.8500000000000001, 'min_child_weight': 3.0, 'gamma': 6.4, 'reg_alpha': 7.300000000000001, 'reg_lambda': 3.6}. Best is trial 53 with value: 0.899249250541029.\n",
      "[I 2024-06-25 15:09:32,330] Trial 67 finished with value: 0.8979244428981462 and parameters: {'max_depth': 3.0, 'learning_rate': 0.25, 'n_estimators': 550.0, 'subsample': 0.95, 'colsample_bytree': 0.7, 'min_child_weight': 4.0, 'gamma': 2.4000000000000004, 'reg_alpha': 6.1000000000000005, 'reg_lambda': 4.6000000000000005}. Best is trial 53 with value: 0.899249250541029.\n",
      "[I 2024-06-25 15:09:36,938] Trial 68 finished with value: 0.8995160545896076 and parameters: {'max_depth': 3.0, 'learning_rate': 0.08, 'n_estimators': 850.0, 'subsample': 0.8, 'colsample_bytree': 0.8, 'min_child_weight': 12.0, 'gamma': 5.2, 'reg_alpha': 8.6, 'reg_lambda': 4.1000000000000005}. Best is trial 68 with value: 0.8995160545896076.\n",
      "[I 2024-06-25 15:09:41,562] Trial 69 finished with value: 0.8985566640697099 and parameters: {'max_depth': 3.0, 'learning_rate': 0.08, 'n_estimators': 850.0, 'subsample': 0.8500000000000001, 'colsample_bytree': 0.75, 'min_child_weight': 12.0, 'gamma': 5.4, 'reg_alpha': 9.600000000000001, 'reg_lambda': 4.1000000000000005}. Best is trial 68 with value: 0.8995160545896076.\n",
      "[I 2024-06-25 15:09:47,117] Trial 70 finished with value: 0.8959768632175595 and parameters: {'max_depth': 3.0, 'learning_rate': 0.03, 'n_estimators': 1000.0, 'subsample': 0.8, 'colsample_bytree': 0.9, 'min_child_weight': 14.0, 'gamma': 3.6, 'reg_alpha': 8.6, 'reg_lambda': 3.0}. Best is trial 68 with value: 0.8995160545896076.\n",
      "[I 2024-06-25 15:09:50,657] Trial 71 finished with value: 0.8987244001908933 and parameters: {'max_depth': 3.0, 'learning_rate': 0.14, 'n_estimators': 650.0, 'subsample': 0.8, 'colsample_bytree': 0.8, 'min_child_weight': 13.0, 'gamma': 6.800000000000001, 'reg_alpha': 7.9, 'reg_lambda': 4.9}. Best is trial 68 with value: 0.8995160545896076.\n",
      "[I 2024-06-25 15:09:54,851] Trial 72 finished with value: 0.8982794545037601 and parameters: {'max_depth': 3.0, 'learning_rate': 0.18000000000000002, 'n_estimators': 750.0, 'subsample': 0.75, 'colsample_bytree': 0.8500000000000001, 'min_child_weight': 12.0, 'gamma': 5.2, 'reg_alpha': 1.3, 'reg_lambda': 3.6}. Best is trial 68 with value: 0.8995160545896076.\n",
      "[I 2024-06-25 15:10:02,311] Trial 73 finished with value: 0.8991807915796434 and parameters: {'max_depth': 3.0, 'learning_rate': 0.09, 'n_estimators': 1800.0, 'subsample': 0.8, 'colsample_bytree': 0.8, 'min_child_weight': 2.0, 'gamma': 4.0, 'reg_alpha': 8.9, 'reg_lambda': 3.9000000000000004}. Best is trial 68 with value: 0.8995160545896076.\n",
      "[I 2024-06-25 15:10:11,092] Trial 74 finished with value: 0.898809545328977 and parameters: {'max_depth': 3.0, 'learning_rate': 0.08, 'n_estimators': 1850.0, 'subsample': 0.8500000000000001, 'colsample_bytree': 0.75, 'min_child_weight': 2.0, 'gamma': 1.8, 'reg_alpha': 8.8, 'reg_lambda': 4.3}. Best is trial 68 with value: 0.8995160545896076.\n",
      "[I 2024-06-25 15:10:20,374] Trial 75 finished with value: 0.8985675169999654 and parameters: {'max_depth': 3.0, 'learning_rate': 0.06999999999999999, 'n_estimators': 1900.0, 'subsample': 0.9, 'colsample_bytree': 0.8, 'min_child_weight': 2.0, 'gamma': 1.2000000000000002, 'reg_alpha': 9.4, 'reg_lambda': 4.3}. Best is trial 68 with value: 0.8995160545896076.\n",
      "[I 2024-06-25 15:10:29,822] Trial 76 finished with value: 0.8907079486858712 and parameters: {'max_depth': 3.0, 'learning_rate': 0.01, 'n_estimators': 1800.0, 'subsample': 0.8500000000000001, 'colsample_bytree': 0.8500000000000001, 'min_child_weight': 2.0, 'gamma': 2.2, 'reg_alpha': 8.8, 'reg_lambda': 2.2}. Best is trial 68 with value: 0.8995160545896076.\n",
      "[I 2024-06-25 15:10:35,974] Trial 77 finished with value: 0.8993896659411318 and parameters: {'max_depth': 3.0, 'learning_rate': 0.09999999999999999, 'n_estimators': 1950.0, 'subsample': 0.8500000000000001, 'colsample_bytree': 0.8, 'min_child_weight': 2.0, 'gamma': 3.2, 'reg_alpha': 8.8, 'reg_lambda': 3.3000000000000003}. Best is trial 68 with value: 0.8995160545896076.\n",
      "[I 2024-06-25 15:10:44,096] Trial 78 finished with value: 0.899027103553925 and parameters: {'max_depth': 3.0, 'learning_rate': 0.09999999999999999, 'n_estimators': 2000.0, 'subsample': 0.8500000000000001, 'colsample_bytree': 0.75, 'min_child_weight': 2.0, 'gamma': 3.0, 'reg_alpha': 9.700000000000001, 'reg_lambda': 2.6}. Best is trial 68 with value: 0.8995160545896076.\n",
      "[I 2024-06-25 15:10:51,372] Trial 79 finished with value: 0.8977621463962924 and parameters: {'max_depth': 4.0, 'learning_rate': 0.09999999999999999, 'n_estimators': 2000.0, 'subsample': 0.8, 'colsample_bytree': 0.7, 'min_child_weight': 2.0, 'gamma': 3.2, 'reg_alpha': 9.600000000000001, 'reg_lambda': 3.3000000000000003}. Best is trial 68 with value: 0.8995160545896076.\n",
      "[I 2024-06-25 15:11:01,707] Trial 80 finished with value: 0.898801274029491 and parameters: {'max_depth': 3.0, 'learning_rate': 0.03, 'n_estimators': 1950.0, 'subsample': 0.8500000000000001, 'colsample_bytree': 0.75, 'min_child_weight': 2.0, 'gamma': 0.6000000000000001, 'reg_alpha': 10.0, 'reg_lambda': 2.6}. Best is trial 68 with value: 0.8995160545896076.\n",
      "[I 2024-06-25 15:11:10,913] Trial 81 finished with value: 0.8988314666488351 and parameters: {'max_depth': 3.0, 'learning_rate': 0.060000000000000005, 'n_estimators': 1850.0, 'subsample': 0.8500000000000001, 'colsample_bytree': 0.75, 'min_child_weight': 2.0, 'gamma': 1.6, 'reg_alpha': 8.9, 'reg_lambda': 4.0}. Best is trial 68 with value: 0.8995160545896076.\n",
      "[I 2024-06-25 15:11:19,494] Trial 82 finished with value: 0.8991171397462763 and parameters: {'max_depth': 3.0, 'learning_rate': 0.05, 'n_estimators': 1750.0, 'subsample': 0.8, 'colsample_bytree': 0.75, 'min_child_weight': 2.0, 'gamma': 4.0, 'reg_alpha': 9.3, 'reg_lambda': 2.8000000000000003}. Best is trial 68 with value: 0.8995160545896076.\n",
      "[I 2024-06-25 15:11:26,762] Trial 83 finished with value: 0.8987326104108211 and parameters: {'max_depth': 3.0, 'learning_rate': 0.11, 'n_estimators': 1650.0, 'subsample': 0.8, 'colsample_bytree': 0.8, 'min_child_weight': 3.0, 'gamma': 4.4, 'reg_alpha': 9.3, 'reg_lambda': 2.8000000000000003}. Best is trial 68 with value: 0.8995160545896076.\n",
      "[I 2024-06-25 15:11:32,886] Trial 84 finished with value: 0.8986004161432724 and parameters: {'max_depth': 3.0, 'learning_rate': 0.14, 'n_estimators': 1750.0, 'subsample': 0.8, 'colsample_bytree': 0.7, 'min_child_weight': 2.0, 'gamma': 2.8000000000000003, 'reg_alpha': 9.700000000000001, 'reg_lambda': 2.0}. Best is trial 68 with value: 0.8995160545896076.\n",
      "[I 2024-06-25 15:11:42,067] Trial 85 finished with value: 0.8987041979617708 and parameters: {'max_depth': 3.0, 'learning_rate': 0.04, 'n_estimators': 1950.0, 'subsample': 0.8500000000000001, 'colsample_bytree': 0.8, 'min_child_weight': 3.0, 'gamma': 5.6000000000000005, 'reg_alpha': 8.5, 'reg_lambda': 1.6}. Best is trial 68 with value: 0.8995160545896076.\n",
      "[I 2024-06-25 15:11:46,555] Trial 86 finished with value: 0.8951910595544668 and parameters: {'max_depth': 5.0, 'learning_rate': 0.2, 'n_estimators': 1900.0, 'subsample': 0.8, 'colsample_bytree': 0.75, 'min_child_weight': 3.0, 'gamma': 4.0, 'reg_alpha': 9.1, 'reg_lambda': 2.3000000000000003}. Best is trial 68 with value: 0.8995160545896076.\n",
      "[I 2024-06-25 15:11:54,311] Trial 87 finished with value: 0.8994484731592277 and parameters: {'max_depth': 3.0, 'learning_rate': 0.09, 'n_estimators': 1750.0, 'subsample': 0.75, 'colsample_bytree': 0.65, 'min_child_weight': 11.0, 'gamma': 5.0, 'reg_alpha': 8.1, 'reg_lambda': 3.3000000000000003}. Best is trial 68 with value: 0.8995160545896076.\n",
      "[I 2024-06-25 15:12:03,967] Trial 88 finished with value: 0.8904158368763018 and parameters: {'max_depth': 3.0, 'learning_rate': 0.01, 'n_estimators': 1750.0, 'subsample': 0.8, 'colsample_bytree': 0.65, 'min_child_weight': 11.0, 'gamma': 3.2, 'reg_alpha': 8.3, 'reg_lambda': 3.1}. Best is trial 68 with value: 0.8995160545896076.\n",
      "[I 2024-06-25 15:12:06,420] Trial 89 finished with value: 0.894533031124079 and parameters: {'max_depth': 3.0, 'learning_rate': 0.49, 'n_estimators': 1650.0, 'subsample': 0.9, 'colsample_bytree': 0.55, 'min_child_weight': 12.0, 'gamma': 2.6, 'reg_alpha': 9.8, 'reg_lambda': 2.4000000000000004}. Best is trial 68 with value: 0.8995160545896076.\n",
      "[I 2024-06-25 15:12:09,620] Trial 90 finished with value: 0.8890024167319992 and parameters: {'max_depth': 3.0, 'learning_rate': 1.0, 'n_estimators': 1800.0, 'subsample': 0.75, 'colsample_bytree': 0.6, 'min_child_weight': 13.0, 'gamma': 4.800000000000001, 'reg_alpha': 9.200000000000001, 'reg_lambda': 3.4000000000000004}. Best is trial 68 with value: 0.8995160545896076.\n",
      "[I 2024-06-25 15:12:18,049] Trial 91 finished with value: 0.899155034721647 and parameters: {'max_depth': 3.0, 'learning_rate': 0.09, 'n_estimators': 1950.0, 'subsample': 0.75, 'colsample_bytree': 0.65, 'min_child_weight': 10.0, 'gamma': 5.0, 'reg_alpha': 8.1, 'reg_lambda': 2.8000000000000003}. Best is trial 68 with value: 0.8995160545896076.\n",
      "[I 2024-06-25 15:12:25,930] Trial 92 finished with value: 0.9000795792597799 and parameters: {'max_depth': 3.0, 'learning_rate': 0.09999999999999999, 'n_estimators': 1950.0, 'subsample': 0.7, 'colsample_bytree': 0.6, 'min_child_weight': 10.0, 'gamma': 3.6, 'reg_alpha': 8.700000000000001, 'reg_lambda': 1.2000000000000002}. Best is trial 92 with value: 0.9000795792597799.\n",
      "[I 2024-06-25 15:12:35,073] Trial 93 finished with value: 0.8999870151577484 and parameters: {'max_depth': 3.0, 'learning_rate': 0.060000000000000005, 'n_estimators': 1950.0, 'subsample': 0.7, 'colsample_bytree': 0.6, 'min_child_weight': 10.0, 'gamma': 4.0, 'reg_alpha': 8.700000000000001, 'reg_lambda': 1.0}. Best is trial 92 with value: 0.9000795792597799.\n",
      "[I 2024-06-25 15:12:44,228] Trial 94 finished with value: 0.9000076588395055 and parameters: {'max_depth': 3.0, 'learning_rate': 0.060000000000000005, 'n_estimators': 1950.0, 'subsample': 0.7, 'colsample_bytree': 0.6, 'min_child_weight': 10.0, 'gamma': 3.4000000000000004, 'reg_alpha': 8.700000000000001, 'reg_lambda': 0.1}. Best is trial 92 with value: 0.9000795792597799.\n",
      "[I 2024-06-25 15:12:51,470] Trial 95 finished with value: 0.8965115554708581 and parameters: {'max_depth': 6.0, 'learning_rate': 0.060000000000000005, 'n_estimators': 1900.0, 'subsample': 0.7, 'colsample_bytree': 0.6, 'min_child_weight': 10.0, 'gamma': 11.4, 'reg_alpha': 8.8, 'reg_lambda': 0.8}. Best is trial 92 with value: 0.9000795792597799.\n",
      "[I 2024-06-25 15:13:00,779] Trial 96 finished with value: 0.9001202736058617 and parameters: {'max_depth': 3.0, 'learning_rate': 0.05, 'n_estimators': 1950.0, 'subsample': 0.65, 'colsample_bytree': 0.6, 'min_child_weight': 11.0, 'gamma': 4.0, 'reg_alpha': 8.6, 'reg_lambda': 0.4}. Best is trial 96 with value: 0.9001202736058617.\n",
      "[I 2024-06-25 15:13:09,297] Trial 97 finished with value: 0.900202670665771 and parameters: {'max_depth': 3.0, 'learning_rate': 0.09, 'n_estimators': 1950.0, 'subsample': 0.65, 'colsample_bytree': 0.6, 'min_child_weight': 11.0, 'gamma': 5.800000000000001, 'reg_alpha': 8.1, 'reg_lambda': 0.4}. Best is trial 97 with value: 0.900202670665771.\n",
      "[I 2024-06-25 15:13:13,196] Trial 98 finished with value: 0.8995680571670369 and parameters: {'max_depth': 3.0, 'learning_rate': 0.16, 'n_estimators': 1850.0, 'subsample': 0.6, 'colsample_bytree': 0.55, 'min_child_weight': 11.0, 'gamma': 6.0, 'reg_alpha': 8.6, 'reg_lambda': 0.0}. Best is trial 97 with value: 0.900202670665771.\n",
      "[I 2024-06-25 15:13:17,054] Trial 99 finished with value: 0.8997904977672779 and parameters: {'max_depth': 3.0, 'learning_rate': 0.16, 'n_estimators': 1950.0, 'subsample': 0.6, 'colsample_bytree': 0.55, 'min_child_weight': 11.0, 'gamma': 6.800000000000001, 'reg_alpha': 8.6, 'reg_lambda': 0.0}. Best is trial 97 with value: 0.900202670665771.\n"
     ]
    },
    {
     "name": "stdout",
     "output_type": "stream",
     "text": [
      "Tempo impiegato: 7.98 minuti\n"
     ]
    }
   ],
   "source": [
    "start_time = time.time()\n",
    "study.optimize(objective, n_trials=settings.optuna_options[\"n_trials\"])\n",
    "end_time = time.time()\n",
    "elapsed_time = end_time - start_time\n",
    "print(f\"Tempo impiegato: {round(elapsed_time/60, 2)} minuti\")"
   ]
  },
  {
   "cell_type": "code",
   "execution_count": 12,
   "id": "2a5be672-34fa-4cf4-9fc3-142ed0f62032",
   "metadata": {},
   "outputs": [
    {
     "name": "stdout",
     "output_type": "stream",
     "text": [
      "Number of finished trials: 100\n",
      "Best trial: 97\n",
      "  Value: 0.900202670665771\n",
      "  Params: \n",
      "    max_depth: 3.0\n",
      "    learning_rate: 0.09\n",
      "    n_estimators: 1950.0\n",
      "    subsample: 0.65\n",
      "    colsample_bytree: 0.6\n",
      "    min_child_weight: 11.0\n",
      "    gamma: 5.800000000000001\n",
      "    reg_alpha: 8.1\n",
      "    reg_lambda: 0.4\n"
     ]
    }
   ],
   "source": [
    "if onlyone:\n",
    "    print('Number of finished trials: {}'.format(len(study.trials)))\n",
    "    best_trial_index = study.best_trial.number\n",
    "    print(f\"Best trial: {best_trial_index}\")\n",
    "    trial = study.best_trial\n",
    "    \n",
    "    print('  Value: {}'.format(trial.value))\n",
    "    print('  Params: ')\n",
    "    \n",
    "    for key, value in trial.params.items():\n",
    "        print('    {}: {}'.format(key, value))\n"
   ]
  },
  {
   "cell_type": "code",
   "execution_count": 13,
   "id": "7187ef8b-6409-49e5-930f-8837577b1ac5",
   "metadata": {},
   "outputs": [
    {
     "data": {
      "image/png": "[encoded data removed]",
      "text/plain": [
       "<Figure size 640x480 with 1 Axes>"
      ]
     },
     "metadata": {},
     "output_type": "display_data"
    },
    {
     "name": "stdout",
     "output_type": "stream",
     "text": [
      "0.9028696806811172 0.9058236064496004\n"
     ]
    }
   ],
   "source": [
    "if onlyone:\n",
    "    colors = ['blue'] * len(auc_score_testV)\n",
    "    plt.scatter(auc_score_testV, auc_score_trainV, color=colors, marker='.', label='trainings')\n",
    "    plt.scatter(auc_score_testV[best_trial_index], auc_score_trainV[best_trial_index], color='red', marker='o', label='best training')\n",
    "    \n",
    "    min_val = min(min(auc_score_testV), min(auc_score_trainV))\n",
    "    max_val = max(max(auc_score_testV), max(auc_score_trainV))\n",
    "    plt.plot([min_val, max_val+0.01], [min_val, max_val+0.01], linestyle='--', color='gray', label='Bisector')\n",
    "    \n",
    "    plt.xlabel('auc_score_test')\n",
    "    plt.ylabel('auc_score_train')\n",
    "    \n",
    "    plt.xlim(min(auc_score_testV), max(auc_score_testV)+0.02)  # Esempio di range per l'asse X\n",
    "    plt.ylim(min(auc_score_testV), max(auc_score_testV)+0.02)  # Esempio di range per l'asse Y\n",
    "\n",
    "    plt.legend()\n",
    "    # Visualizzazione del plot\n",
    "    plt.show()\n",
    "    print(auc_score_testV[best_trial_index], auc_score_trainV[best_trial_index])\n"
   ]
  },
  {
   "cell_type": "code",
   "execution_count": null,
   "id": "103a7d65-cd7e-4826-bf3c-bf812cc92ae1",
   "metadata": {},
   "outputs": [],
   "source": []
  }
 ],
 "metadata": {
  "kernelspec": {
   "display_name": "MyROOT",
   "language": "python",
   "name": "root_env"
  },
  "language_info": {
   "codemirror_mode": {
    "name": "ipython",
    "version": 3
   },
   "file_extension": ".py",
   "mimetype": "text/x-python",
   "name": "python",
   "nbconvert_exporter": "python",
   "pygments_lexer": "ipython3",
   "version": "3.11.7"
  }
 },
 "nbformat": 4,
 "nbformat_minor": 5
}
